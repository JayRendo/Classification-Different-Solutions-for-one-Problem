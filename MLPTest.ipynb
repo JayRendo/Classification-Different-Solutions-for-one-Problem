{
  "nbformat": 4,
  "nbformat_minor": 0,
  "metadata": {
    "colab": {
      "name": "Untitled3.ipynb",
      "provenance": [],
      "collapsed_sections": []
    },
    "kernelspec": {
      "name": "python3",
      "display_name": "Python 3"
    },
    "language_info": {
      "name": "python"
    }
  },
  "cells": [
    {
      "cell_type": "markdown",
      "source": [
        "# Import datasets and necessary functions"
      ],
      "metadata": {
        "id": "ABOwH7ZMg8zQ"
      }
    },
    {
      "cell_type": "code",
      "execution_count": 1,
      "metadata": {
        "id": "UmSiGNeUgXU9"
      },
      "outputs": [],
      "source": [
        "import sklearn\n",
        "from sklearn.neural_network import MLPClassifier\n",
        "from sklearn.model_selection import train_test_split\n",
        "from sklearn.datasets import load_digits"
      ]
    },
    {
      "cell_type": "markdown",
      "source": [
        "# Importing the first dataset "
      ],
      "metadata": {
        "id": "UPIDd1l5hx7C"
      }
    },
    {
      "cell_type": "code",
      "source": [
        "(data, target) = load_digits(return_X_y= True)"
      ],
      "metadata": {
        "id": "WttC07mhh2eJ"
      },
      "execution_count": 2,
      "outputs": []
    },
    {
      "cell_type": "markdown",
      "source": [
        "# Separating the data into train and tests sets"
      ],
      "metadata": {
        "id": "ds8KM6bmjcV2"
      }
    },
    {
      "cell_type": "code",
      "source": [
        "X_train, X_test, y_train, y_test = train_test_split(data, target, test_size=0.25, random_state=1)"
      ],
      "metadata": {
        "id": "rEQUpWN0jigm"
      },
      "execution_count": 3,
      "outputs": []
    },
    {
      "cell_type": "markdown",
      "source": [
        "# Training the method and testing it"
      ],
      "metadata": {
        "id": "pl_6d_sEk4IS"
      }
    },
    {
      "cell_type": "code",
      "source": [
        "model = MLPClassifier(random_state=1, max_iter = 1000, hidden_layer_sizes=(100,)).fit(X_train, y_train)\n",
        "y_pred = model.predict(X_test)\n",
        "count = 0\n",
        "for i in range(len(y_pred)):\n",
        "  if y_pred[i] == y_test[i]:\n",
        "    count = count + 1\n",
        "print(count/len(y_pred))"
      ],
      "metadata": {
        "colab": {
          "base_uri": "https://localhost:8080/"
        },
        "id": "daPrX0dkk9Ss",
        "outputId": "52ab4be0-77dd-4efa-ba5f-7662a9e14b39"
      },
      "execution_count": 4,
      "outputs": [
        {
          "output_type": "stream",
          "name": "stdout",
          "text": [
            "0.9755555555555555\n"
          ]
        }
      ]
    },
    {
      "cell_type": "markdown",
      "source": [
        "We see that the MLP classifier works very well in this case for the digits dataset."
      ],
      "metadata": {
        "id": "aXquxBe5mI8i"
      }
    },
    {
      "cell_type": "markdown",
      "source": [
        "# Case where it doesn't work\n",
        "We know give an example of a case where it doesn't work as well. For this, we use a dataset with a large number of continuous covariates."
      ],
      "metadata": {
        "id": "v9Wd8ryOmWTz"
      }
    },
    {
      "cell_type": "code",
      "source": [
        "\n",
        "import numpy as np\n",
        "from sklearn.datasets import fetch_openml\n",
        "data = fetch_openml(name='numerai28.6')\n",
        "target = np.array(data.target)\n",
        "data = data.data\n",
        "X_train, X_test, y_train, y_test = train_test_split(data, target, test_size=0.25, random_state=1)\n",
        "model = MLPClassifier(random_state=1, max_iter = 1000, hidden_layer_sizes=(100,)).fit(X_train, y_train)\n",
        "y_pred = model.predict(X_test)\n",
        "count = 0\n",
        "for i in range(len(y_pred)):\n",
        "  if y_pred[i] == y_test[i]:\n",
        "    count = count + 1\n",
        "print(count/len(y_pred))"
      ],
      "metadata": {
        "colab": {
          "base_uri": "https://localhost:8080/"
        },
        "id": "GZfhH_nznt14",
        "outputId": "9f8c6ea1-049c-4a16-f230-c280b6adbc3f"
      },
      "execution_count": 7,
      "outputs": [
        {
          "output_type": "stream",
          "name": "stdout",
          "text": [
            "0.515406976744186\n"
          ]
        }
      ]
    }
  ]
}